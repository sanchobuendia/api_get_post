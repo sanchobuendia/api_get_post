{
 "cells": [
  {
   "cell_type": "code",
   "execution_count": 1,
   "metadata": {},
   "outputs": [],
   "source": [
    "import requests\n",
    "import json"
   ]
  },
  {
   "cell_type": "code",
   "execution_count": 6,
   "metadata": {},
   "outputs": [
    {
     "name": "stdout",
     "output_type": "stream",
     "text": [
      "Data sent successfully.\n"
     ]
    }
   ],
   "source": [
    "# Define the API endpoint URL\n",
    "url = 'https://apigetpostri-2yhs5ice4q-rj.a.run.app/api/post_dict'  # Replace with your actual API endpoint URL\n",
    "\n",
    "# Create a dictionary to send\n",
    "data_to_send = {\n",
    "    \"nome\": \"cloudrunTESTE\",\n",
    "    \"id\": \"090808\"\n",
    "}\n",
    "\n",
    "# Convert the dictionary to JSON format\n",
    "json_data = json.dumps(data_to_send)\n",
    "\n",
    "# Set the headers to specify JSON content\n",
    "headers = {'Content-Type': 'application/json'}\n",
    "\n",
    "# Send the POST request\n",
    "response = requests.post(url, data=json_data, headers=headers)\n",
    "\n",
    "# Check the response\n",
    "if response.status_code == 201:\n",
    "    print(\"Data sent successfully.\")\n",
    "else:\n",
    "    print(\"Failed to send data.\")"
   ]
  },
  {
   "cell_type": "code",
   "execution_count": 7,
   "metadata": {},
   "outputs": [
    {
     "name": "stdout",
     "output_type": "stream",
     "text": [
      "Data retrieved successfully:\n",
      "{'id': '090808', 'nome': 'cloudrunTESTE'}\n"
     ]
    }
   ],
   "source": [
    "# Define the API endpoint URL for retrieving data\n",
    "url = 'https://apigetpostri-2yhs5ice4q-rj.a.run.app/api/get_dict'  # Replace with your actual API endpoint URL\n",
    "\n",
    "# Send a GET request to retrieve the data\n",
    "response = requests.get(url)\n",
    "\n",
    "# Check the response status code\n",
    "if response.status_code == 200:\n",
    "    # Parse the response JSON to get the retrieved data\n",
    "    retrieved_data = response.json()\n",
    "    \n",
    "    # Access the dictionary from the retrieved data\n",
    "    data_dict = retrieved_data.get('data')\n",
    "\n",
    "    if data_dict:\n",
    "        print(\"Data retrieved successfully:\")\n",
    "        print(data_dict)\n",
    "    else:\n",
    "        print(\"No data available.\")\n",
    "else:\n",
    "    print(\"Failed to retrieve data.\")"
   ]
  },
  {
   "cell_type": "code",
   "execution_count": null,
   "metadata": {},
   "outputs": [],
   "source": []
  }
 ],
 "metadata": {
  "kernelspec": {
   "display_name": "ricardio",
   "language": "python",
   "name": "python3"
  },
  "language_info": {
   "codemirror_mode": {
    "name": "ipython",
    "version": 3
   },
   "file_extension": ".py",
   "mimetype": "text/x-python",
   "name": "python",
   "nbconvert_exporter": "python",
   "pygments_lexer": "ipython3",
   "version": "3.9.18"
  }
 },
 "nbformat": 4,
 "nbformat_minor": 2
}
