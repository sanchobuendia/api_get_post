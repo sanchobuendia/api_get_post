{
 "cells": [
  {
   "cell_type": "code",
   "execution_count": null,
   "metadata": {},
   "outputs": [],
   "source": [
    "import requests\n",
    "import json\n",
    "\n",
    "# Define the API endpoint URL\n",
    "url = 'https://apigetpostri-2yhs5ice4q-rj.a.run.app/api/post_dict'  # Replace with your actual API endpoint URL\n",
    "\n",
    "# Create a dictionary to send\n",
    "data_to_send = {\n",
    "    \"CLRI_NR_CLIENTE\": \"51023\",\n",
    "    \"CLRI_SL_MARCA\": \"FL\",\n",
    "    \"CLRI_SL_REGIONAL\": \"SP\",\n",
    "    \"CLRI_NO_CLIENTE\": \"Aureliano\",\n",
    "    \"CLRI_DT_NASCTO\": \"1950-10-16\",\n",
    "    \"CLRI_SL_SEXO\": \"M\",\n",
    "    \"ERGOMETRIA\": {\"CLRI_SL_EXAME\": \"TERGO\", \"Laudo\":\"ELETROCARDIOGRAMA DE ESFORCO      =========================================      CINTILOGRAFIA DO MIOCÁRDIO ASSOCIADA AO DIPIRIDAMOL  Idade: 72 anos Peso: 86,0 kg                            Altura: 1,78 m    Indicação: avaliação cardiológica    Medicação: n.d.n.    REL...\", \"CONCLUSAO_INDIV\": \"Normal\", \"CLRI_NR_ACESSION_NUMBER\": \"8200299446000101\", \"CLRI_NR_FICHA\": \"8200299446\"},\n",
    "    \"CINTILOGRAFIA\": {\"CLRI_SL_EXAME\": \"DIPI\", \"Laudo\":\"ANÁLISE INTEGRADA CINTILOGRAFIA DO MIOCÁRDIO ASSOCIADA AO DIPIRIDAMOL ESTUDOS DE PERFUSÃO E FUNÇÃO VENTRICULAR  METODOLOGIA Exame  realizado  nas  fases  basal  e  após  estresse  farmacológico com dipiridamol,  sendo administrado o radiofármaco (sestamibi-99mTc) por via endovenosa  nas doses de 9 m...\", \"CONCLUSAO_INDIV\": \"Normal\", \"CLRI_NR_ACESSION_NUMBER\": \"8200299446000100\", \"CLRI_NR_FICHA\": \"8200299446\"},\n",
    "    \"ANGIOTOMOGRAFIA\": {\"CLRI_SL_EXAME\": \"TCCORONARIAS\", \"Laudo\":\"ANGIOTOMOGRAFIA COMPUTADORIZADA DAS ARTÉRIAS CORONARIANAS   Método Realizados  cortes  axiais  com  sincronização  cardíaca prospectiva para avaliação  do  escore  de  cálcio  coronário.  Posteriormente,  durante a injeção  endovenosa  de  contraste  iodado  não  iônico, foram realizados cortes  hel...\", \"CONCLUSAO_INDIV\": \"Normal\", \"CLRI_NR_ACESSION_NUMBER\": \"8200296067000100\", \"CLRI_NR_FICHA\": \"8200296067\"},\n",
    "    \"MEDICO\": \"Dr Aureliano\"\n",
    "}\n",
    "\n",
    "# Convert the dictionary to JSON format\n",
    "json_data = json.dumps(data_to_send)\n",
    "\n",
    "# Set the headers to specify JSON content\n",
    "headers = {'Content-Type': 'application/json'}\n",
    "\n",
    "# Send the POST request\n",
    "response = requests.post(url, data=json_data, headers=headers)\n",
    "\n",
    "# Check the response\n",
    "if response.status_code == 201:\n",
    "    print(\"Data sent successfully.\")\n",
    "else:\n",
    "    print(\"Failed to send data.\")"
   ]
  },
  {
   "cell_type": "code",
   "execution_count": null,
   "metadata": {},
   "outputs": [],
   "source": []
  },
  {
   "cell_type": "code",
   "execution_count": null,
   "metadata": {},
   "outputs": [],
   "source": []
  }
 ],
 "metadata": {
  "kernelspec": {
   "display_name": "ricardio",
   "language": "python",
   "name": "python3"
  },
  "language_info": {
   "codemirror_mode": {
    "name": "ipython",
    "version": 3
   },
   "file_extension": ".py",
   "mimetype": "text/x-python",
   "name": "python",
   "nbconvert_exporter": "python",
   "pygments_lexer": "ipython3",
   "version": "3.9.18"
  }
 },
 "nbformat": 4,
 "nbformat_minor": 2
}
